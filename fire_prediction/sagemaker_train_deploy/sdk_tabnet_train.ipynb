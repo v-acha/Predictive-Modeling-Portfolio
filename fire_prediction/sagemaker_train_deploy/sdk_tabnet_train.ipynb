{
 "cells": [
  {
   "cell_type": "code",
   "execution_count": null,
   "id": "7a7d29a3-cde5-4192-ac2e-1f1f2a7d6c10",
   "metadata": {},
   "outputs": [],
   "source": [
    "!python train_tabnet.py --train_path s3://fireguarddata/data/preprocessed_data/train.csv --val_path s3://fireguarddata/data/preprocessed_data/val.csv --epochs 2 --batch_size 8192"
   ]
  },
  {
   "cell_type": "markdown",
   "id": "6951b994-9511-472f-bac0-808f376bc1ba",
   "metadata": {},
   "source": [
    "Steps to Train Your Model Using SageMaker Estimator:\n",
    "## Upload Your Training Script to Local directory\n",
    "Make sure your training scripts are uploaded locally. SageMaker expects the training script to be located in a local directory, not to S3."
   ]
  },
  {
   "cell_type": "markdown",
   "id": "750c60d4-153c-487b-a7d0-f729ee86757a",
   "metadata": {},
   "source": [
    "### Setting up Training Job \n",
    "### Upload Tabnet py script to s3"
   ]
  },
  {
   "cell_type": "markdown",
   "id": "6ec3eed9-c406-4b9c-b80a-9eec1c5beb9e",
   "metadata": {},
   "source": [
    "**uploading script to s3**\n",
    "training jobs expect scripts saved locally and not in s3. "
   ]
  },
  {
   "cell_type": "code",
   "execution_count": 19,
   "id": "5343975e-8ed7-4a72-9343-6d91dea45b2d",
   "metadata": {},
   "outputs": [
    {
     "name": "stdout",
     "output_type": "stream",
     "text": [
      "upload: ./train_tabnet_balanced.py to s3://fireguarddata/scripts/train_tabnet_balanced.py\n"
     ]
    }
   ],
   "source": [
    "!aws s3 cp train_tabnet_balanced.py s3://fireguarddata/scripts/train_tabnet_balanced.py"
   ]
  },
  {
   "cell_type": "code",
   "execution_count": null,
   "id": "373a0490-cb64-4d4f-bd02-24189576538a",
   "metadata": {},
   "outputs": [],
   "source": [
    "!aws s3 cp train_tabnet_focal.py s3://fireguarddata/scripts/train_tabnet_focal.py"
   ]
  },
  {
   "cell_type": "code",
   "execution_count": 20,
   "id": "17085518-59e6-4b94-ad52-45b08868ef20",
   "metadata": {},
   "outputs": [
    {
     "name": "stdout",
     "output_type": "stream",
     "text": [
      "2025-03-30 05:04:51       2999 train_tabnet.py\n",
      "2025-03-30 05:57:32       3803 train_tabnet_balanced.py\n"
     ]
    }
   ],
   "source": [
    "#verify upload\n",
    "!aws s3 ls s3://fireguarddata/scripts/"
   ]
  },
  {
   "cell_type": "code",
   "execution_count": 1,
   "id": "0d32bb65-0d85-46ad-a667-88eb36170c5c",
   "metadata": {},
   "outputs": [
    {
     "name": "stdout",
     "output_type": "stream",
     "text": [
      "total 104\n",
      "drwxr-xr-x 2 vanel vanel  4096 Jan 26 13:20 Data\n",
      "drwxr-xr-x 2 vanel vanel  4096 Mar 24 02:42 cb_2022_us_state_20m\n",
      "drwxr-xr-x 2 vanel vanel  4096 Apr  2 20:00 files-moved\n",
      "drwxr-xr-x 3 vanel vanel  4096 Mar 24 00:35 mtbs_fod_pts_data\n",
      "drwxr-xr-x 2 vanel vanel  4096 Apr  2 20:00 scripts\n",
      "-rw-r--r-- 1 vanel vanel 85940 Apr  2 19:40 sdk_tabnet_train.ipynb\n"
     ]
    }
   ],
   "source": [
    "#list files in local directory\n",
    "!ls -l\n"
   ]
  },
  {
   "cell_type": "code",
   "execution_count": 3,
   "id": "d7830258-0dfd-42f3-894d-bb3c354d8635",
   "metadata": {},
   "outputs": [],
   "source": [
    "#Create the scripts directory if it doesn't already exist:\n",
    "!mkdir -p scripts"
   ]
  },
  {
   "cell_type": "code",
   "execution_count": 30,
   "id": "7f348713-a293-4546-8dad-1b7b13d82c67",
   "metadata": {},
   "outputs": [],
   "source": [
    "#move script to the scripts folder\n",
    "!mv train_tabnet_balanced.py ./scripts/"
   ]
  },
  {
   "cell_type": "markdown",
   "id": "705d7d6b-c246-45e1-bedd-1e319dcc3028",
   "metadata": {},
   "source": [
    "**Create the Training Job Using SageMaker Python SDK**\n",
    "let's set up the sagemaker training job"
   ]
  },
  {
   "cell_type": "code",
   "execution_count": 4,
   "id": "b8c9ada5-1774-49a6-97e7-5e775d109f30",
   "metadata": {},
   "outputs": [
    {
     "name": "stdout",
     "output_type": "stream",
     "text": [
      "total 4\n",
      "-rw-r--r-- 1 vanel vanel 2999 Apr  2 19:40 train_tabnet.py\n"
     ]
    }
   ],
   "source": [
    "ls -l ./scripts"
   ]
  },
  {
   "cell_type": "markdown",
   "id": "36252942-3db7-49df-874e-ed96c9c8f84b",
   "metadata": {},
   "source": [
    "Run the Cell and Monitor\n",
    "- The cell will initiate the SageMaker training job.\n",
    "- You can monitor the training job in the SageMaker Console under Training > Training jobs.\n",
    "- Once the job completes, your trained model will be stored in:`s3://fireguarddata/models/tabnet_balanced/`\n"
   ]
  },
  {
   "cell_type": "markdown",
   "id": "2d573654-de4f-4b48-b484-cde2fe9e11ee",
   "metadata": {},
   "source": [
    "## 1. SageMaker Python SDK Training Job for train_tabnet.py \n",
    "Create the Training Job Using SageMaker Python SDK\n",
    "\n",
    "1. Import necessary libraries.\n",
    "2. Set up an Estimator object with your training script and S3 paths.\n",
    "3. Launch the training job.\n",
    "    - Image URI: Uses a GPU-based PyTorch image for your g5 instance.\n",
    "    - Instance Type: ml.g5.12xlarge is ideal for deep learning with high GPU resources.\n",
    "    - Region: Uses the US East (N. Virginia) region for the image URI.\n",
    "    - Hyperparameters: Set epochs to 10 and batch size to 16384 as you mentioned earlier."
   ]
  },
  {
   "cell_type": "code",
   "execution_count": 6,
   "id": "54d91b98",
   "metadata": {},
   "outputs": [
    {
     "name": "stdout",
     "output_type": "stream",
     "text": [
      "Collecting sagemaker\n",
      "  Downloading sagemaker-2.243.0-py3-none-any.whl.metadata (16 kB)\n",
      "Collecting attrs<24,>=23.1.0 (from sagemaker)\n",
      "  Downloading attrs-23.2.0-py3-none-any.whl.metadata (9.5 kB)\n",
      "Requirement already satisfied: boto3<2.0,>=1.35.75 in /home/vanel/anaconda3/envs/myenv/lib/python3.10/site-packages (from sagemaker) (1.36.3)\n",
      "Requirement already satisfied: cloudpickle>=2.2.1 in /home/vanel/anaconda3/envs/myenv/lib/python3.10/site-packages (from sagemaker) (3.0.0)\n",
      "Collecting docker (from sagemaker)\n",
      "  Downloading docker-7.1.0-py3-none-any.whl.metadata (3.8 kB)\n",
      "Collecting fastapi (from sagemaker)\n",
      "  Downloading fastapi-0.115.12-py3-none-any.whl.metadata (27 kB)\n",
      "Collecting google-pasta (from sagemaker)\n",
      "  Using cached google_pasta-0.2.0-py3-none-any.whl.metadata (814 bytes)\n",
      "Collecting importlib-metadata<7.0,>=1.4.0 (from sagemaker)\n",
      "  Downloading importlib_metadata-6.11.0-py3-none-any.whl.metadata (4.9 kB)\n",
      "Requirement already satisfied: jsonschema in /home/vanel/anaconda3/envs/myenv/lib/python3.10/site-packages (from sagemaker) (4.23.0)\n",
      "Collecting numpy<2.0,>=1.9.0 (from sagemaker)\n",
      "  Downloading numpy-1.26.4-cp310-cp310-manylinux_2_17_x86_64.manylinux2014_x86_64.whl.metadata (61 kB)\n",
      "Collecting omegaconf<=2.3,>=2.2 (from sagemaker)\n",
      "  Downloading omegaconf-2.3.0-py3-none-any.whl.metadata (3.9 kB)\n",
      "Requirement already satisfied: packaging>=20.0 in /home/vanel/anaconda3/envs/myenv/lib/python3.10/site-packages (from sagemaker) (24.2)\n",
      "Requirement already satisfied: pandas in /home/vanel/anaconda3/envs/myenv/lib/python3.10/site-packages (from sagemaker) (2.2.3)\n",
      "Collecting pathos (from sagemaker)\n",
      "  Using cached pathos-0.3.3-py3-none-any.whl.metadata (11 kB)\n",
      "Requirement already satisfied: platformdirs in /home/vanel/anaconda3/envs/myenv/lib/python3.10/site-packages (from sagemaker) (3.10.0)\n",
      "Collecting protobuf<6.0,>=3.12 (from sagemaker)\n",
      "  Downloading protobuf-5.29.4-cp38-abi3-manylinux2014_x86_64.whl.metadata (592 bytes)\n",
      "Requirement already satisfied: psutil in /home/vanel/anaconda3/envs/myenv/lib/python3.10/site-packages (from sagemaker) (5.9.0)\n",
      "Requirement already satisfied: pyyaml~=6.0 in /home/vanel/anaconda3/envs/myenv/lib/python3.10/site-packages (from sagemaker) (6.0.2)\n",
      "Requirement already satisfied: requests in /home/vanel/anaconda3/envs/myenv/lib/python3.10/site-packages (from sagemaker) (2.32.3)\n",
      "Collecting sagemaker-core<2.0.0,>=1.0.17 (from sagemaker)\n",
      "  Downloading sagemaker_core-1.0.27-py3-none-any.whl.metadata (4.9 kB)\n",
      "Collecting schema (from sagemaker)\n",
      "  Downloading schema-0.7.7-py2.py3-none-any.whl.metadata (34 kB)\n",
      "Collecting smdebug-rulesconfig==1.0.1 (from sagemaker)\n",
      "  Downloading smdebug_rulesconfig-1.0.1-py2.py3-none-any.whl.metadata (943 bytes)\n",
      "Requirement already satisfied: tblib<4,>=1.7.0 in /home/vanel/anaconda3/envs/myenv/lib/python3.10/site-packages (from sagemaker) (1.7.0)\n",
      "Requirement already satisfied: tqdm in /home/vanel/anaconda3/envs/myenv/lib/python3.10/site-packages (from sagemaker) (4.67.1)\n",
      "Requirement already satisfied: urllib3<3.0.0,>=1.26.8 in /home/vanel/anaconda3/envs/myenv/lib/python3.10/site-packages (from sagemaker) (2.3.0)\n",
      "Collecting uvicorn (from sagemaker)\n",
      "  Downloading uvicorn-0.34.0-py3-none-any.whl.metadata (6.5 kB)\n",
      "Requirement already satisfied: botocore<1.37.0,>=1.36.3 in /home/vanel/anaconda3/envs/myenv/lib/python3.10/site-packages (from boto3<2.0,>=1.35.75->sagemaker) (1.36.3)\n",
      "Requirement already satisfied: jmespath<2.0.0,>=0.7.1 in /home/vanel/anaconda3/envs/myenv/lib/python3.10/site-packages (from boto3<2.0,>=1.35.75->sagemaker) (1.0.1)\n",
      "Requirement already satisfied: s3transfer<0.12.0,>=0.11.0 in /home/vanel/anaconda3/envs/myenv/lib/python3.10/site-packages (from boto3<2.0,>=1.35.75->sagemaker) (0.11.2)\n",
      "Requirement already satisfied: zipp>=0.5 in /home/vanel/anaconda3/envs/myenv/lib/python3.10/site-packages (from importlib-metadata<7.0,>=1.4.0->sagemaker) (3.21.0)\n",
      "Collecting antlr4-python3-runtime==4.9.* (from omegaconf<=2.3,>=2.2->sagemaker)\n",
      "  Downloading antlr4-python3-runtime-4.9.3.tar.gz (117 kB)\n",
      "  Preparing metadata (setup.py) ... \u001b[?25ldone\n",
      "\u001b[?25hRequirement already satisfied: pydantic<3.0.0,>=2.0.0 in /home/vanel/anaconda3/envs/myenv/lib/python3.10/site-packages (from sagemaker-core<2.0.0,>=1.0.17->sagemaker) (2.10.6)\n",
      "Collecting platformdirs (from sagemaker)\n",
      "  Using cached platformdirs-4.3.7-py3-none-any.whl.metadata (11 kB)\n",
      "Collecting rich<14.0.0,>=13.0.0 (from sagemaker-core<2.0.0,>=1.0.17->sagemaker)\n",
      "  Downloading rich-13.9.4-py3-none-any.whl.metadata (18 kB)\n",
      "Collecting mock<5.0,>4.0 (from sagemaker-core<2.0.0,>=1.0.17->sagemaker)\n",
      "  Downloading mock-4.0.3-py3-none-any.whl.metadata (2.8 kB)\n",
      "Requirement already satisfied: jsonschema-specifications>=2023.03.6 in /home/vanel/anaconda3/envs/myenv/lib/python3.10/site-packages (from jsonschema->sagemaker) (2023.7.1)\n",
      "Requirement already satisfied: referencing>=0.28.4 in /home/vanel/anaconda3/envs/myenv/lib/python3.10/site-packages (from jsonschema->sagemaker) (0.30.2)\n",
      "Requirement already satisfied: rpds-py>=0.7.1 in /home/vanel/anaconda3/envs/myenv/lib/python3.10/site-packages (from jsonschema->sagemaker) (0.22.3)\n",
      "Requirement already satisfied: charset-normalizer<4,>=2 in /home/vanel/anaconda3/envs/myenv/lib/python3.10/site-packages (from requests->sagemaker) (3.3.2)\n",
      "Requirement already satisfied: idna<4,>=2.5 in /home/vanel/anaconda3/envs/myenv/lib/python3.10/site-packages (from requests->sagemaker) (3.10)\n",
      "Requirement already satisfied: certifi>=2017.4.17 in /home/vanel/anaconda3/envs/myenv/lib/python3.10/site-packages (from requests->sagemaker) (2025.1.31)\n",
      "Collecting starlette<0.47.0,>=0.40.0 (from fastapi->sagemaker)\n",
      "  Downloading starlette-0.46.1-py3-none-any.whl.metadata (6.2 kB)\n",
      "Requirement already satisfied: typing-extensions>=4.8.0 in /home/vanel/anaconda3/envs/myenv/lib/python3.10/site-packages (from fastapi->sagemaker) (4.12.2)\n",
      "Requirement already satisfied: six in /home/vanel/anaconda3/envs/myenv/lib/python3.10/site-packages (from google-pasta->sagemaker) (1.16.0)\n",
      "Requirement already satisfied: python-dateutil>=2.8.2 in /home/vanel/anaconda3/envs/myenv/lib/python3.10/site-packages (from pandas->sagemaker) (2.9.0.post0)\n",
      "Requirement already satisfied: pytz>=2020.1 in /home/vanel/anaconda3/envs/myenv/lib/python3.10/site-packages (from pandas->sagemaker) (2024.1)\n",
      "Requirement already satisfied: tzdata>=2022.7 in /home/vanel/anaconda3/envs/myenv/lib/python3.10/site-packages (from pandas->sagemaker) (2023.3)\n",
      "Collecting ppft>=1.7.6.9 (from pathos->sagemaker)\n",
      "  Using cached ppft-1.7.6.9-py3-none-any.whl.metadata (12 kB)\n",
      "Collecting dill>=0.3.9 (from pathos->sagemaker)\n",
      "  Using cached dill-0.3.9-py3-none-any.whl.metadata (10 kB)\n",
      "Collecting pox>=0.3.5 (from pathos->sagemaker)\n",
      "  Using cached pox-0.3.5-py3-none-any.whl.metadata (8.0 kB)\n",
      "Collecting multiprocess>=0.70.17 (from pathos->sagemaker)\n",
      "  Downloading multiprocess-0.70.17-py310-none-any.whl.metadata (7.2 kB)\n",
      "Requirement already satisfied: click>=7.0 in /home/vanel/anaconda3/envs/myenv/lib/python3.10/site-packages (from uvicorn->sagemaker) (8.1.7)\n",
      "Requirement already satisfied: h11>=0.8 in /home/vanel/anaconda3/envs/myenv/lib/python3.10/site-packages (from uvicorn->sagemaker) (0.14.0)\n",
      "Requirement already satisfied: annotated-types>=0.6.0 in /home/vanel/anaconda3/envs/myenv/lib/python3.10/site-packages (from pydantic<3.0.0,>=2.0.0->sagemaker-core<2.0.0,>=1.0.17->sagemaker) (0.7.0)\n",
      "Requirement already satisfied: pydantic-core==2.27.2 in /home/vanel/anaconda3/envs/myenv/lib/python3.10/site-packages (from pydantic<3.0.0,>=2.0.0->sagemaker-core<2.0.0,>=1.0.17->sagemaker) (2.27.2)\n",
      "Collecting markdown-it-py>=2.2.0 (from rich<14.0.0,>=13.0.0->sagemaker-core<2.0.0,>=1.0.17->sagemaker)\n",
      "  Downloading markdown_it_py-3.0.0-py3-none-any.whl.metadata (6.9 kB)\n",
      "Requirement already satisfied: pygments<3.0.0,>=2.13.0 in /home/vanel/anaconda3/envs/myenv/lib/python3.10/site-packages (from rich<14.0.0,>=13.0.0->sagemaker-core<2.0.0,>=1.0.17->sagemaker) (2.15.1)\n",
      "Requirement already satisfied: anyio<5,>=3.6.2 in /home/vanel/anaconda3/envs/myenv/lib/python3.10/site-packages (from starlette<0.47.0,>=0.40.0->fastapi->sagemaker) (4.6.2)\n",
      "Requirement already satisfied: sniffio>=1.1 in /home/vanel/anaconda3/envs/myenv/lib/python3.10/site-packages (from anyio<5,>=3.6.2->starlette<0.47.0,>=0.40.0->fastapi->sagemaker) (1.3.0)\n",
      "Requirement already satisfied: exceptiongroup>=1.0.2 in /home/vanel/anaconda3/envs/myenv/lib/python3.10/site-packages (from anyio<5,>=3.6.2->starlette<0.47.0,>=0.40.0->fastapi->sagemaker) (1.2.0)\n",
      "Collecting mdurl~=0.1 (from markdown-it-py>=2.2.0->rich<14.0.0,>=13.0.0->sagemaker-core<2.0.0,>=1.0.17->sagemaker)\n",
      "  Downloading mdurl-0.1.2-py3-none-any.whl.metadata (1.6 kB)\n",
      "Downloading sagemaker-2.243.0-py3-none-any.whl (1.6 MB)\n",
      "\u001b[2K   \u001b[90m━━━━━━━━━━━━━━━━━━━━━━━━━━━━━━━━━━━━━━━━\u001b[0m \u001b[32m1.6/1.6 MB\u001b[0m \u001b[31m4.4 MB/s\u001b[0m eta \u001b[36m0:00:00\u001b[0ma \u001b[36m0:00:01\u001b[0m\n",
      "\u001b[?25hDownloading smdebug_rulesconfig-1.0.1-py2.py3-none-any.whl (20 kB)\n",
      "Downloading attrs-23.2.0-py3-none-any.whl (60 kB)\n",
      "Downloading importlib_metadata-6.11.0-py3-none-any.whl (23 kB)\n",
      "Downloading numpy-1.26.4-cp310-cp310-manylinux_2_17_x86_64.manylinux2014_x86_64.whl (18.2 MB)\n",
      "\u001b[2K   \u001b[90m━━━━━━━━━━━━━━━━━━━━━━━━━━━━━━━━━━━━━━━━\u001b[0m \u001b[32m18.2/18.2 MB\u001b[0m \u001b[31m6.5 MB/s\u001b[0m eta \u001b[36m0:00:00\u001b[0m00:01\u001b[0m00:01\u001b[0m\n",
      "\u001b[?25hDownloading omegaconf-2.3.0-py3-none-any.whl (79 kB)\n",
      "Downloading protobuf-5.29.4-cp38-abi3-manylinux2014_x86_64.whl (319 kB)\n",
      "Downloading sagemaker_core-1.0.27-py3-none-any.whl (407 kB)\n",
      "Using cached platformdirs-4.3.7-py3-none-any.whl (18 kB)\n",
      "Downloading docker-7.1.0-py3-none-any.whl (147 kB)\n",
      "Downloading fastapi-0.115.12-py3-none-any.whl (95 kB)\n",
      "Using cached google_pasta-0.2.0-py3-none-any.whl (57 kB)\n",
      "Using cached pathos-0.3.3-py3-none-any.whl (82 kB)\n",
      "Downloading schema-0.7.7-py2.py3-none-any.whl (18 kB)\n",
      "Downloading uvicorn-0.34.0-py3-none-any.whl (62 kB)\n",
      "Using cached dill-0.3.9-py3-none-any.whl (119 kB)\n",
      "Downloading mock-4.0.3-py3-none-any.whl (28 kB)\n",
      "Downloading multiprocess-0.70.17-py310-none-any.whl (134 kB)\n",
      "Using cached pox-0.3.5-py3-none-any.whl (29 kB)\n",
      "Using cached ppft-1.7.6.9-py3-none-any.whl (56 kB)\n",
      "Downloading rich-13.9.4-py3-none-any.whl (242 kB)\n",
      "Downloading starlette-0.46.1-py3-none-any.whl (71 kB)\n",
      "Downloading markdown_it_py-3.0.0-py3-none-any.whl (87 kB)\n",
      "Downloading mdurl-0.1.2-py3-none-any.whl (10.0 kB)\n",
      "Building wheels for collected packages: antlr4-python3-runtime\n",
      "  Building wheel for antlr4-python3-runtime (setup.py) ... \u001b[?25ldone\n",
      "\u001b[?25h  Created wheel for antlr4-python3-runtime: filename=antlr4_python3_runtime-4.9.3-py3-none-any.whl size=144591 sha256=61236bafb28df6bbd9021ec76589233b98e1afdf934051610c8030a9d7f694ce\n",
      "  Stored in directory: /home/vanel/.cache/pip/wheels/12/93/dd/1f6a127edc45659556564c5730f6d4e300888f4bca2d4c5a88\n",
      "Successfully built antlr4-python3-runtime\n",
      "Installing collected packages: schema, antlr4-python3-runtime, uvicorn, smdebug-rulesconfig, protobuf, ppft, pox, platformdirs, omegaconf, numpy, mock, mdurl, importlib-metadata, google-pasta, dill, attrs, starlette, multiprocess, markdown-it-py, docker, rich, pathos, fastapi, sagemaker-core, sagemaker\n",
      "  Attempting uninstall: platformdirs\n",
      "    Found existing installation: platformdirs 3.10.0\n",
      "    Uninstalling platformdirs-3.10.0:\n",
      "      Successfully uninstalled platformdirs-3.10.0\n",
      "  Attempting uninstall: numpy\n",
      "    Found existing installation: numpy 2.2.4\n",
      "    Uninstalling numpy-2.2.4:\n",
      "      Successfully uninstalled numpy-2.2.4\n",
      "  Attempting uninstall: importlib-metadata\n",
      "    Found existing installation: importlib_metadata 8.5.0\n",
      "    Uninstalling importlib_metadata-8.5.0:\n",
      "      Successfully uninstalled importlib_metadata-8.5.0\n",
      "  Attempting uninstall: attrs\n",
      "    Found existing installation: attrs 24.3.0\n",
      "    Uninstalling attrs-24.3.0:\n",
      "      Successfully uninstalled attrs-24.3.0\n",
      "Successfully installed antlr4-python3-runtime-4.9.3 attrs-23.2.0 dill-0.3.9 docker-7.1.0 fastapi-0.115.12 google-pasta-0.2.0 importlib-metadata-6.11.0 markdown-it-py-3.0.0 mdurl-0.1.2 mock-4.0.3 multiprocess-0.70.17 numpy-1.26.4 omegaconf-2.3.0 pathos-0.3.3 platformdirs-4.3.7 pox-0.3.5 ppft-1.7.6.9 protobuf-5.29.4 rich-13.9.4 sagemaker-2.243.0 sagemaker-core-1.0.27 schema-0.7.7 smdebug-rulesconfig-1.0.1 starlette-0.46.1 uvicorn-0.34.0\n"
     ]
    }
   ],
   "source": [
    "!pip install sagemaker"
   ]
  },
  {
   "cell_type": "code",
   "execution_count": null,
   "id": "482007bd-ff09-4fa2-8205-f5c4b193c5fe",
   "metadata": {},
   "outputs": [],
   "source": [
    "# Import Required Libraries and Set Up\n",
    "import sagemaker\n",
    "from sagemaker.pytorch import PyTorch\n",
    "import boto3\n",
    "\n",
    "# Initialize SageMaker session and role\n",
    "sagemaker_session = sagemaker.Session()\n",
    "#role = sagemaker.get_execution_role() use only in sagemaker instance\n",
    "role = \"AmazonSageMaker-ExecutionRole\"\n",
    "region = boto3.Session().region_name\n",
    "\n",
    "# Image URI for PyTorch training (GPU version)\n",
    "image_uri = \"placeholderdkr.amazonaws.com/pytorch-training:1.13.1-gpu-py39\"\n",
    "bucket = \"fireguarddata\"\n",
    "scripts_path = f\"s3://{bucket}/scripts/\"\n",
    "output_path = f\"s3://{bucket}/models/tabnet-new/\"\n",
    "\n",
    "print(f\"Region: {region}\")\n",
    "print(f\"Role: {role}\")\n",
    "print(f\"Image URI: {image_uri}\")\n",
    "\n",
    "# Set Hyperparameters\n",
    "hyperparameters = {\n",
    "    \"epochs\": 20,\n",
    "    \"batch_size\": 2048,\n",
    "    \"train_path\": \"s3://fireguarddata/data/preprocessed_data/train.csv\",\n",
    "    \"val_path\": \"s3://fireguarddata/data/preprocessed_data/val.csv\",\n",
    "}\n",
    "\n",
    "# Configure the Estimator for Training Job\n",
    "estimator = PyTorch(\n",
    "    entry_point=\"train_tabnet.py\",  # Updated script name\n",
    "    source_dir=\"./scripts\",        # Directory containing the script\n",
    "    role=role,\n",
    "    instance_count=1,\n",
    "    instance_type=\"ml.g4dn.8xlarge\", # Updated to the cheaper instance\n",
    "    image_uri=image_uri,\n",
    "    framework_version=\"1.13.1\",\n",
    "    py_version=\"py39\",\n",
    "    output_path=output_path,       # Updated output path\n",
    "    hyperparameters=hyperparameters,\n",
    "    sagemaker_session=sagemaker_session\n",
    ")\n",
    "\n",
    "# Launch the Training Job\n",
    "estimator.fit(job_name=\"pytorch-training-tabnet4\")\n",
    "print(\"Training job launched with ml.g4dn.8xlarge!\")\n"
   ]
  },
  {
   "cell_type": "markdown",
   "id": "7723c289-71c6-4b3b-a90e-275f5651bdbb",
   "metadata": {},
   "source": [
    "Step 5: Track the Training Job\n",
    "\n",
    "You can monitor the job's progress either through the AWS Console under SageMaker > Training Jobs or via this notebook by running:\n",
    "\n",
    "estimator.latest_training_job.wait(logs=\"All\")"
   ]
  },
  {
   "cell_type": "markdown",
   "id": "588a0b2c-a4b9-4bc1-a8ee-5600f46e29e1",
   "metadata": {},
   "source": [
    "## 2. SageMaker Python SDK Training Job for train_tabnet_balanced.py"
   ]
  },
  {
   "cell_type": "code",
   "execution_count": null,
   "id": "4aab9f2a-7b0a-4145-b06d-76c5a8618ebe",
   "metadata": {
    "scrolled": true
   },
   "outputs": [],
   "source": [
    "# -- Step 1: Import Required Libraries and Set Up\n",
    "import sagemaker\n",
    "from sagemaker.pytorch import PyTorch\n",
    "import boto3\n",
    "\n",
    "# Initialize SageMaker session and role\n",
    "sagemaker_session = sagemaker.Session()\n",
    "role = sagemaker.get_execution_role()  # Get the current SageMaker role\n",
    "region = boto3.Session().region_name\n",
    "\n",
    "# Image URI for PyTorch training (GPU version as per your setup)\n",
    "image_uri = \"placeholder/pytorch-training:1.13.1-gpu-py39\"\n",
    "bucket = \"fireguarddata\"  # Your S3 bucket name\n",
    "scripts_path = f\"s3://{bucket}/scripts/\"\n",
    "output_path = f\"s3://{bucket}/models/tabnet/\"\n",
    "\n",
    "print(f\"Region: {region}\")\n",
    "print(f\"Role: {role}\")\n",
    "print(f\"Image URI: {image_uri}\")\n",
    "\n",
    "# -- Step 2: Set Hyperparameters and Configuration -- \n",
    "# Hyperparameters for training\n",
    "hyperparameters = {\n",
    "    \"epochs\": 10,\n",
    "    \"batch_size\": 2048,\n",
    "    \"train_path\": \"s3://fireguarddata/data/preprocessed_data/train.csv\",\n",
    "    \"val_path\": \"s3://fireguarddata/data/preprocessed_data/val.csv\"\n",
    "}\n",
    "\n",
    "# --Step 3: Configure the Estimator for Training Job --\n",
    "# Initialize the PyTorch estimator for the balanced model\n",
    "estimator_balanced = PyTorch(\n",
    "    entry_point=\"train_tabnet_balanced.py\",  # Your balanced training script\n",
    "    source_dir=\"./scripts\",  # The local directory where your script is present \n",
    "    role=role,\n",
    "    instance_count=1,\n",
    "    instance_type=\"ml.g4dn.8xlarge\",\n",
    "    image_uri=image_uri,\n",
    "    framework_version=\"1.13.1\",\n",
    "    py_version=\"py39\",\n",
    "    output_path=output_path,\n",
    "    hyperparameters=hyperparameters,\n",
    "    sagemaker_session=sagemaker_session\n",
    ")\n",
    "\n",
    "\n",
    "#--Step 4: Launch the Training Job -- \n",
    "# Start the training job - job_name=\"pytorch-training-balanced\"\n",
    "estimator_balanced.fit()\n",
    "print(\"Balanced training job launched!\")"
   ]
  },
  {
   "cell_type": "markdown",
   "id": "46214116-f8f2-42e5-8637-823ce5fdb99a",
   "metadata": {},
   "source": [
    "## 2. SageMaker Python SDK Training Job for train_tabnet_focal.py"
   ]
  },
  {
   "cell_type": "code",
   "execution_count": null,
   "id": "4bb466b3-4fe9-45ba-a2de-7bc78efecc31",
   "metadata": {},
   "outputs": [],
   "source": [
    "# -- Step 1: Import Required Libraries and Set Up\n",
    "import sagemaker\n",
    "from sagemaker.pytorch import PyTorch\n",
    "import boto3\n",
    "\n",
    "# Initialize SageMaker session and role\n",
    "sagemaker_session = sagemaker.Session()\n",
    "role = sagemaker.get_execution_role()  # Get the current SageMaker role\n",
    "region = boto3.Session().region_name\n",
    "\n",
    "# Image URI for PyTorch training (GPU version as per your setup)\n",
    "image_uri = \"placeholder/ amazonaws.com/pytorch-training:1.13.1-gpu-py39\"\n",
    "bucket = \"fireguarddata\"  # Your S3 bucket name\n",
    "scripts_path = f\"s3://{bucket}/scripts/\"\n",
    "output_path = f\"s3://{bucket}/models/tabnet/\"\n",
    "\n",
    "print(f\"Region: {region}\")\n",
    "print(f\"Role: {role}\")\n",
    "print(f\"Image URI: {image_uri}\")\n",
    "\n",
    "# -- Step 2: Set Hyperparameters and Configuration -- \n",
    "# Hyperparameters for training\n",
    "hyperparameters = {\n",
    "    \"epochs\": 5,\n",
    "    \"batch_size\": 8192,\n",
    "    \"train_path\": \"s3://fireguarddata/data/preprocessed_data/train.csv\",\n",
    "    \"val_path\": \"s3://fireguarddata/data/preprocessed_data/val.csv\"\n",
    "}\n",
    "\n",
    "# Step 3: Configure the Estimator for the Focal Loss Model\n",
    "estimator_focal = PyTorch(\n",
    "    entry_point=\"train_tabnet_focal.py\",  # Updated to the focal loss script\n",
    "    source_dir=\"./scripts\",  # Local path where the script is stored\n",
    "    role=role,\n",
    "    instance_count=1,\n",
    "    instance_type=\"ml.g5.12xlarge\",\n",
    "    image_uri=image_uri,\n",
    "    framework_version=\"1.13.1\",\n",
    "    py_version=\"py39\",\n",
    "    output_path=output_path,\n",
    "    hyperparameters=hyperparameters,\n",
    "    sagemaker_session=sagemaker_session\n",
    ")\n",
    "\n",
    "\n",
    "# Step 4: Launch the Focal Loss Training Job\n",
    "estimator_focal.fit(job_name=\"pytorch-tabnet-training-focal\")\n",
    "print(\"Focal loss training job launched!\")"
   ]
  },
  {
   "cell_type": "markdown",
   "id": "d76a0e62-0a35-4672-a526-3f84ba361445",
   "metadata": {},
   "source": [
    "**Step 7: Access the Trained Model**\n",
    "After training, the model will be saved in your S3 bucket:\n",
    "\n",
    "**Key Concepts:**\n",
    "Training Script (train.py): Contains your training logic.\n",
    "\n",
    "SageMaker Training Job: Runs your script on AWS infrastructure.\n",
    "\n",
    "Pre-built AWS Container: We used the AWS PyTorch container to simplify dependency management.\n",
    "\n",
    "Output: Your trained model is saved to an S3 bucket."
   ]
  },
  {
   "cell_type": "markdown",
   "id": "56dbaf6c-c736-4ebd-902b-cfb07925dd48",
   "metadata": {},
   "source": [
    "## Finding the PyTorch Image URI\n",
    "AWS SageMaker provides pre-built Docker images for popular frameworks like PyTorch. The image URI depends on the following: framework(pytorch), version, python version (e.g. py39), instance type (cpu/gpu), region(e.g. us. east)\n",
    "- Using the SageMaker SDK to get the correct image URI:\n",
    "- the following snippet in your Jupyter notebook to automatically get the correct image URI:"
   ]
  },
  {
   "cell_type": "code",
   "execution_count": null,
   "id": "d759fb04-2a41-45b4-8434-fca339e8df9f",
   "metadata": {},
   "outputs": [],
   "source": [
    "import sagemaker\n",
    "from sagemaker.pytorch import PyTorch\n",
    "\n",
    "# Get the AWS region\n",
    "region = sagemaker.Session().boto_region_name\n",
    "\n",
    "# Specify the framework, version, Python version, and instance type\n",
    "framework_version = \"1.13.1\"\n",
    "py_version = \"py39\"\n",
    "instance_type = \"ml.g4dn.8xlarge\"  # GPU instance\n",
    "\n",
    "# Get the correct image URI\n",
    "image_uri = sagemaker.image_uris.retrieve(\n",
    "    framework=\"pytorch\",\n",
    "    region=region,\n",
    "    version=framework_version,\n",
    "    py_version=py_version,\n",
    "    instance_type=instance_type,\n",
    "    image_scope=\"training\"  # Important for training jobs\n",
    ")\n",
    "\n",
    "print(f\"Image URI: {image_uri}\")\n"
   ]
  },
  {
   "cell_type": "code",
   "execution_count": null,
   "id": "9481cd19-bc78-479b-8d66-566c83f30167",
   "metadata": {},
   "outputs": [],
   "source": []
  }
 ],
 "metadata": {
  "kernelspec": {
   "display_name": "Python (myenv)",
   "language": "python",
   "name": "myenv"
  },
  "language_info": {
   "codemirror_mode": {
    "name": "ipython",
    "version": 3
   },
   "file_extension": ".py",
   "mimetype": "text/x-python",
   "name": "python",
   "nbconvert_exporter": "python",
   "pygments_lexer": "ipython3",
   "version": "3.10.16"
  }
 },
 "nbformat": 4,
 "nbformat_minor": 5
}
