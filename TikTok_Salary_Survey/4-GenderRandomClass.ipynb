{
 "cells": [
  {
   "cell_type": "markdown",
   "metadata": {},
   "source": [
    "# **Predicting Gender using Random Classification Model**\n",
    "\n",
    "In this notebook, we will be using The Random Forest classification model to predict gender based on variables such as age range, years of experience, industry, job title, highest level of education received, country, annual salary, annual bonus, and signon bonus \n",
    "\n",
    "1. Data Preparation:\n",
    "\n",
    "2. Model Training:\n",
    "\n",
    "3. Model Evaluation:\n",
    "\n",
    "•\tIterate and Optimize: Based on the evaluation, refine the model by adjusting its parameters, reselecting features, or further addressing data imbalances. Repeat the training and evaluation process as needed.\n",
    "\n",
    "4. Visualize and interpret Normalized Confusion Matrix\n",
    "5. Use other metrics to interpret results"
   ]
  },
  {
   "cell_type": "markdown",
   "metadata": {},
   "source": [
    "The purpose of the model is to predict the gender of individuals based on various features such as their annual salary, annual bonus, sign-on bonus, experience, industry, job title, education, and age range. It utilizes a Random Forest classifier to learn patterns from the data and make accurate predictions. The model's accuracy and classification report provide insights into the performance and effectiveness of the gender prediction task."
   ]
  },
  {
   "cell_type": "code",
   "execution_count": 6,
   "metadata": {},
   "outputs": [],
   "source": [
    "#importing necessary libraries\n",
    "import pandas as pd\n",
    "from sklearn.model_selection import train_test_split\n",
    "from sklearn.preprocessing import StandardScaler, OneHotEncoder\n",
    "from sklearn.compose import ColumnTransformer\n",
    "from sklearn.pipeline import Pipeline\n",
    "from sklearn.ensemble import RandomForestClassifier\n",
    "from sklearn.metrics import accuracy_score, classification_report\n",
    "from sklearn.impute import SimpleImputer"
   ]
  },
  {
   "cell_type": "markdown",
   "metadata": {},
   "source": [
    "# Data Preprocessing\n",
    "\n",
    "1. **Encode Categorical Variables:** Transform categorical variables into a format that can be used by the model, using techniques like one-hot encoding for nominal data.\n",
    "2. **Split the Data:** Divide the dataset into training and testing sets to ensure the model can be trained on one set of data and validated on another.\n",
    "3. **Handle Class Imbalance:** Address the imbalance in gender distribution (if present) using techniques like adjusting class weights or resampling the dataset to ensure fair representation of all classes."
   ]
  },
  {
   "cell_type": "code",
   "execution_count": 8,
   "metadata": {},
   "outputs": [],
   "source": [
    "df = pd.read_csv('Cleaned_SalSur.csv')\n",
    "\n",
    "# Filter to include only Female, Male, and Non-Binary in the Gender column\n",
    "df = df[df['Gender'].isin(['Female', 'Male', 'Non-Binary'])]  # Ensure consistent casing ('Non-Binary' vs 'Non-binary')\n",
    "\n",
    "# Define preprocessing for numeric columns (scale them) Defines the preprocessing steps for numeric and categorical features separately.\n",
    "#For numeric features (e.g., 'Annual Salary'), it imputes missing values with the median and scales the values using StandardScaler.\n",
    "numeric_features = ['Annual Salary','Annual Bonus','Signon Bonus']\n",
    "numeric_transformer = Pipeline(steps=[\n",
    "    ('imputer', SimpleImputer(strategy='median')),\n",
    "    ('scaler', StandardScaler())])\n",
    "\n",
    "# Define preprocessing for categorical features (encode them)\n",
    "#For categorical features (e.g., 'Age Range', 'Industry', 'Job Title', 'Education'), it imputes missing values with a constant placeholder ('missing') and performs one-hot encoding using OneHotEncoder.\n",
    "categorical_features = ['Age Range','Experience','Industry', 'Job Title', 'Education']\n",
    "categorical_transformer = Pipeline(steps=[\n",
    "    ('imputer', SimpleImputer(strategy='constant', fill_value='missing')),\n",
    "    ('onehot', OneHotEncoder(handle_unknown='ignore'))])\n",
    "\n",
    "# Combine preprocessing steps\n",
    "#Combines the numeric and categorical preprocessing steps into a single preprocessor using ColumnTransformer.\n",
    "preprocessor = ColumnTransformer(\n",
    "    transformers=[\n",
    "        ('num', numeric_transformer, numeric_features),\n",
    "        ('cat', categorical_transformer, categorical_features)])\n"
   ]
  },
  {
   "cell_type": "markdown",
   "metadata": {},
   "source": [
    "# Model Training\n",
    "\n",
    "1. Initialize the Model: Set up the logistic regression model, adjusting parameters like class_weight to 'balanced' if you're addressing class imbalance.\n",
    "2. Train the Model: Fit the model to the training data, allowing it to learn the relationship between the input features and the target variable (gender).\n",
    "3. Feature Selection: Optionally, perform feature selection to identify the most relevant features that contribute to predicting the target variable."
   ]
  },
  {
   "cell_type": "code",
   "execution_count": 3,
   "metadata": {},
   "outputs": [
    {
     "name": "stdout",
     "output_type": "stream",
     "text": [
      "Sample Sizes for Each Gender Category:\n",
      "Female        37088\n",
      "Male           9320\n",
      "Non-Binary       81\n",
      "Name: Gender, dtype: int64\n"
     ]
    },
    {
     "data": {
      "text/html": [
       "<style>#sk-container-id-1 {color: black;background-color: white;}#sk-container-id-1 pre{padding: 0;}#sk-container-id-1 div.sk-toggleable {background-color: white;}#sk-container-id-1 label.sk-toggleable__label {cursor: pointer;display: block;width: 100%;margin-bottom: 0;padding: 0.3em;box-sizing: border-box;text-align: center;}#sk-container-id-1 label.sk-toggleable__label-arrow:before {content: \"▸\";float: left;margin-right: 0.25em;color: #696969;}#sk-container-id-1 label.sk-toggleable__label-arrow:hover:before {color: black;}#sk-container-id-1 div.sk-estimator:hover label.sk-toggleable__label-arrow:before {color: black;}#sk-container-id-1 div.sk-toggleable__content {max-height: 0;max-width: 0;overflow: hidden;text-align: left;background-color: #f0f8ff;}#sk-container-id-1 div.sk-toggleable__content pre {margin: 0.2em;color: black;border-radius: 0.25em;background-color: #f0f8ff;}#sk-container-id-1 input.sk-toggleable__control:checked~div.sk-toggleable__content {max-height: 200px;max-width: 100%;overflow: auto;}#sk-container-id-1 input.sk-toggleable__control:checked~label.sk-toggleable__label-arrow:before {content: \"▾\";}#sk-container-id-1 div.sk-estimator input.sk-toggleable__control:checked~label.sk-toggleable__label {background-color: #d4ebff;}#sk-container-id-1 div.sk-label input.sk-toggleable__control:checked~label.sk-toggleable__label {background-color: #d4ebff;}#sk-container-id-1 input.sk-hidden--visually {border: 0;clip: rect(1px 1px 1px 1px);clip: rect(1px, 1px, 1px, 1px);height: 1px;margin: -1px;overflow: hidden;padding: 0;position: absolute;width: 1px;}#sk-container-id-1 div.sk-estimator {font-family: monospace;background-color: #f0f8ff;border: 1px dotted black;border-radius: 0.25em;box-sizing: border-box;margin-bottom: 0.5em;}#sk-container-id-1 div.sk-estimator:hover {background-color: #d4ebff;}#sk-container-id-1 div.sk-parallel-item::after {content: \"\";width: 100%;border-bottom: 1px solid gray;flex-grow: 1;}#sk-container-id-1 div.sk-label:hover label.sk-toggleable__label {background-color: #d4ebff;}#sk-container-id-1 div.sk-serial::before {content: \"\";position: absolute;border-left: 1px solid gray;box-sizing: border-box;top: 0;bottom: 0;left: 50%;z-index: 0;}#sk-container-id-1 div.sk-serial {display: flex;flex-direction: column;align-items: center;background-color: white;padding-right: 0.2em;padding-left: 0.2em;position: relative;}#sk-container-id-1 div.sk-item {position: relative;z-index: 1;}#sk-container-id-1 div.sk-parallel {display: flex;align-items: stretch;justify-content: center;background-color: white;position: relative;}#sk-container-id-1 div.sk-item::before, #sk-container-id-1 div.sk-parallel-item::before {content: \"\";position: absolute;border-left: 1px solid gray;box-sizing: border-box;top: 0;bottom: 0;left: 50%;z-index: -1;}#sk-container-id-1 div.sk-parallel-item {display: flex;flex-direction: column;z-index: 1;position: relative;background-color: white;}#sk-container-id-1 div.sk-parallel-item:first-child::after {align-self: flex-end;width: 50%;}#sk-container-id-1 div.sk-parallel-item:last-child::after {align-self: flex-start;width: 50%;}#sk-container-id-1 div.sk-parallel-item:only-child::after {width: 0;}#sk-container-id-1 div.sk-dashed-wrapped {border: 1px dashed gray;margin: 0 0.4em 0.5em 0.4em;box-sizing: border-box;padding-bottom: 0.4em;background-color: white;}#sk-container-id-1 div.sk-label label {font-family: monospace;font-weight: bold;display: inline-block;line-height: 1.2em;}#sk-container-id-1 div.sk-label-container {text-align: center;}#sk-container-id-1 div.sk-container {/* jupyter's `normalize.less` sets `[hidden] { display: none; }` but bootstrap.min.css set `[hidden] { display: none !important; }` so we also need the `!important` here to be able to override the default hidden behavior on the sphinx rendered scikit-learn.org. See: https://github.com/scikit-learn/scikit-learn/issues/21755 */display: inline-block !important;position: relative;}#sk-container-id-1 div.sk-text-repr-fallback {display: none;}</style><div id=\"sk-container-id-1\" class=\"sk-top-container\"><div class=\"sk-text-repr-fallback\"><pre>Pipeline(steps=[(&#x27;preprocessor&#x27;,\n",
       "                 ColumnTransformer(transformers=[(&#x27;num&#x27;,\n",
       "                                                  Pipeline(steps=[(&#x27;imputer&#x27;,\n",
       "                                                                   SimpleImputer(strategy=&#x27;median&#x27;)),\n",
       "                                                                  (&#x27;scaler&#x27;,\n",
       "                                                                   StandardScaler())]),\n",
       "                                                  [&#x27;Annual Salary&#x27;,\n",
       "                                                   &#x27;Annual Bonus&#x27;,\n",
       "                                                   &#x27;Signon Bonus&#x27;]),\n",
       "                                                 (&#x27;cat&#x27;,\n",
       "                                                  Pipeline(steps=[(&#x27;imputer&#x27;,\n",
       "                                                                   SimpleImputer(fill_value=&#x27;missing&#x27;,\n",
       "                                                                                 strategy=&#x27;constant&#x27;)),\n",
       "                                                                  (&#x27;onehot&#x27;,\n",
       "                                                                   OneHotEncoder(handle_unknown=&#x27;ignore&#x27;))]),\n",
       "                                                  [&#x27;Age Range&#x27;, &#x27;Experience&#x27;,\n",
       "                                                   &#x27;Industry&#x27;, &#x27;Job Title&#x27;,\n",
       "                                                   &#x27;Education&#x27;])])),\n",
       "                (&#x27;classifier&#x27;, RandomForestClassifier(random_state=42))])</pre><b>In a Jupyter environment, please rerun this cell to show the HTML representation or trust the notebook. <br />On GitHub, the HTML representation is unable to render, please try loading this page with nbviewer.org.</b></div><div class=\"sk-container\" hidden><div class=\"sk-item sk-dashed-wrapped\"><div class=\"sk-label-container\"><div class=\"sk-label sk-toggleable\"><input class=\"sk-toggleable__control sk-hidden--visually\" id=\"sk-estimator-id-1\" type=\"checkbox\" ><label for=\"sk-estimator-id-1\" class=\"sk-toggleable__label sk-toggleable__label-arrow\">Pipeline</label><div class=\"sk-toggleable__content\"><pre>Pipeline(steps=[(&#x27;preprocessor&#x27;,\n",
       "                 ColumnTransformer(transformers=[(&#x27;num&#x27;,\n",
       "                                                  Pipeline(steps=[(&#x27;imputer&#x27;,\n",
       "                                                                   SimpleImputer(strategy=&#x27;median&#x27;)),\n",
       "                                                                  (&#x27;scaler&#x27;,\n",
       "                                                                   StandardScaler())]),\n",
       "                                                  [&#x27;Annual Salary&#x27;,\n",
       "                                                   &#x27;Annual Bonus&#x27;,\n",
       "                                                   &#x27;Signon Bonus&#x27;]),\n",
       "                                                 (&#x27;cat&#x27;,\n",
       "                                                  Pipeline(steps=[(&#x27;imputer&#x27;,\n",
       "                                                                   SimpleImputer(fill_value=&#x27;missing&#x27;,\n",
       "                                                                                 strategy=&#x27;constant&#x27;)),\n",
       "                                                                  (&#x27;onehot&#x27;,\n",
       "                                                                   OneHotEncoder(handle_unknown=&#x27;ignore&#x27;))]),\n",
       "                                                  [&#x27;Age Range&#x27;, &#x27;Experience&#x27;,\n",
       "                                                   &#x27;Industry&#x27;, &#x27;Job Title&#x27;,\n",
       "                                                   &#x27;Education&#x27;])])),\n",
       "                (&#x27;classifier&#x27;, RandomForestClassifier(random_state=42))])</pre></div></div></div><div class=\"sk-serial\"><div class=\"sk-item sk-dashed-wrapped\"><div class=\"sk-label-container\"><div class=\"sk-label sk-toggleable\"><input class=\"sk-toggleable__control sk-hidden--visually\" id=\"sk-estimator-id-2\" type=\"checkbox\" ><label for=\"sk-estimator-id-2\" class=\"sk-toggleable__label sk-toggleable__label-arrow\">preprocessor: ColumnTransformer</label><div class=\"sk-toggleable__content\"><pre>ColumnTransformer(transformers=[(&#x27;num&#x27;,\n",
       "                                 Pipeline(steps=[(&#x27;imputer&#x27;,\n",
       "                                                  SimpleImputer(strategy=&#x27;median&#x27;)),\n",
       "                                                 (&#x27;scaler&#x27;, StandardScaler())]),\n",
       "                                 [&#x27;Annual Salary&#x27;, &#x27;Annual Bonus&#x27;,\n",
       "                                  &#x27;Signon Bonus&#x27;]),\n",
       "                                (&#x27;cat&#x27;,\n",
       "                                 Pipeline(steps=[(&#x27;imputer&#x27;,\n",
       "                                                  SimpleImputer(fill_value=&#x27;missing&#x27;,\n",
       "                                                                strategy=&#x27;constant&#x27;)),\n",
       "                                                 (&#x27;onehot&#x27;,\n",
       "                                                  OneHotEncoder(handle_unknown=&#x27;ignore&#x27;))]),\n",
       "                                 [&#x27;Age Range&#x27;, &#x27;Experience&#x27;, &#x27;Industry&#x27;,\n",
       "                                  &#x27;Job Title&#x27;, &#x27;Education&#x27;])])</pre></div></div></div><div class=\"sk-parallel\"><div class=\"sk-parallel-item\"><div class=\"sk-item\"><div class=\"sk-label-container\"><div class=\"sk-label sk-toggleable\"><input class=\"sk-toggleable__control sk-hidden--visually\" id=\"sk-estimator-id-3\" type=\"checkbox\" ><label for=\"sk-estimator-id-3\" class=\"sk-toggleable__label sk-toggleable__label-arrow\">num</label><div class=\"sk-toggleable__content\"><pre>[&#x27;Annual Salary&#x27;, &#x27;Annual Bonus&#x27;, &#x27;Signon Bonus&#x27;]</pre></div></div></div><div class=\"sk-serial\"><div class=\"sk-item\"><div class=\"sk-serial\"><div class=\"sk-item\"><div class=\"sk-estimator sk-toggleable\"><input class=\"sk-toggleable__control sk-hidden--visually\" id=\"sk-estimator-id-4\" type=\"checkbox\" ><label for=\"sk-estimator-id-4\" class=\"sk-toggleable__label sk-toggleable__label-arrow\">SimpleImputer</label><div class=\"sk-toggleable__content\"><pre>SimpleImputer(strategy=&#x27;median&#x27;)</pre></div></div></div><div class=\"sk-item\"><div class=\"sk-estimator sk-toggleable\"><input class=\"sk-toggleable__control sk-hidden--visually\" id=\"sk-estimator-id-5\" type=\"checkbox\" ><label for=\"sk-estimator-id-5\" class=\"sk-toggleable__label sk-toggleable__label-arrow\">StandardScaler</label><div class=\"sk-toggleable__content\"><pre>StandardScaler()</pre></div></div></div></div></div></div></div></div><div class=\"sk-parallel-item\"><div class=\"sk-item\"><div class=\"sk-label-container\"><div class=\"sk-label sk-toggleable\"><input class=\"sk-toggleable__control sk-hidden--visually\" id=\"sk-estimator-id-6\" type=\"checkbox\" ><label for=\"sk-estimator-id-6\" class=\"sk-toggleable__label sk-toggleable__label-arrow\">cat</label><div class=\"sk-toggleable__content\"><pre>[&#x27;Age Range&#x27;, &#x27;Experience&#x27;, &#x27;Industry&#x27;, &#x27;Job Title&#x27;, &#x27;Education&#x27;]</pre></div></div></div><div class=\"sk-serial\"><div class=\"sk-item\"><div class=\"sk-serial\"><div class=\"sk-item\"><div class=\"sk-estimator sk-toggleable\"><input class=\"sk-toggleable__control sk-hidden--visually\" id=\"sk-estimator-id-7\" type=\"checkbox\" ><label for=\"sk-estimator-id-7\" class=\"sk-toggleable__label sk-toggleable__label-arrow\">SimpleImputer</label><div class=\"sk-toggleable__content\"><pre>SimpleImputer(fill_value=&#x27;missing&#x27;, strategy=&#x27;constant&#x27;)</pre></div></div></div><div class=\"sk-item\"><div class=\"sk-estimator sk-toggleable\"><input class=\"sk-toggleable__control sk-hidden--visually\" id=\"sk-estimator-id-8\" type=\"checkbox\" ><label for=\"sk-estimator-id-8\" class=\"sk-toggleable__label sk-toggleable__label-arrow\">OneHotEncoder</label><div class=\"sk-toggleable__content\"><pre>OneHotEncoder(handle_unknown=&#x27;ignore&#x27;)</pre></div></div></div></div></div></div></div></div></div></div><div class=\"sk-item\"><div class=\"sk-estimator sk-toggleable\"><input class=\"sk-toggleable__control sk-hidden--visually\" id=\"sk-estimator-id-9\" type=\"checkbox\" ><label for=\"sk-estimator-id-9\" class=\"sk-toggleable__label sk-toggleable__label-arrow\">RandomForestClassifier</label><div class=\"sk-toggleable__content\"><pre>RandomForestClassifier(random_state=42)</pre></div></div></div></div></div></div></div>"
      ],
      "text/plain": [
       "Pipeline(steps=[('preprocessor',\n",
       "                 ColumnTransformer(transformers=[('num',\n",
       "                                                  Pipeline(steps=[('imputer',\n",
       "                                                                   SimpleImputer(strategy='median')),\n",
       "                                                                  ('scaler',\n",
       "                                                                   StandardScaler())]),\n",
       "                                                  ['Annual Salary',\n",
       "                                                   'Annual Bonus',\n",
       "                                                   'Signon Bonus']),\n",
       "                                                 ('cat',\n",
       "                                                  Pipeline(steps=[('imputer',\n",
       "                                                                   SimpleImputer(fill_value='missing',\n",
       "                                                                                 strategy='constant')),\n",
       "                                                                  ('onehot',\n",
       "                                                                   OneHotEncoder(handle_unknown='ignore'))]),\n",
       "                                                  ['Age Range', 'Experience',\n",
       "                                                   'Industry', 'Job Title',\n",
       "                                                   'Education'])])),\n",
       "                ('classifier', RandomForestClassifier(random_state=42))])"
      ]
     },
     "execution_count": 3,
     "metadata": {},
     "output_type": "execute_result"
    }
   ],
   "source": [
    "# Define the model pipeline \n",
    "#Defines the model pipeline consisting of the preprocessor and a Random Forest classifier with 100 trees.\n",
    "pipeline = Pipeline(steps=[('preprocessor', preprocessor),\n",
    "                           ('classifier', RandomForestClassifier(n_estimators=100, random_state=42))])\n",
    "\n",
    "# Split the data Splits the data into training and testing sets.\n",
    "X = df.drop('Gender', axis=1)\n",
    "y = df['Gender']\n",
    "X_train, X_test, y_train, y_test = train_test_split(X, y, test_size=0.2, random_state=42,stratify=y)\n",
    "\n",
    "# Get the sample sizes for each category in the 'Gender' column\n",
    "gender_sample_sizes = y.value_counts()\n",
    "print(\"Sample Sizes for Each Gender Category:\")\n",
    "print(gender_sample_sizes)\n",
    "\n",
    "# Train the model: Trains the model pipeline on the training data.\n",
    "pipeline.fit(X_train, y_train)"
   ]
  },
  {
   "cell_type": "markdown",
   "metadata": {},
   "source": [
    "# Model Evaluation\n",
    "\n",
    "1. Predictions: Use the trained model to make predictions on the test dataset.\n",
    "2. Evaluate Performance: Assess the model's performance using metrics such as accuracy, precision, recall, and F1-score. The confusion matrix can also provide insights into the model's prediction capabilities across different classes."
   ]
  },
  {
   "cell_type": "code",
   "execution_count": 4,
   "metadata": {},
   "outputs": [
    {
     "name": "stdout",
     "output_type": "stream",
     "text": [
      "Accuracy: 0.81\n",
      "              precision    recall  f1-score   support\n",
      "\n",
      "      Female       0.83      0.97      0.89      7418\n",
      "        Male       0.61      0.19      0.29      1864\n",
      "  Non-Binary       0.33      0.06      0.11        16\n",
      "\n",
      "    accuracy                           0.81      9298\n",
      "   macro avg       0.59      0.41      0.43      9298\n",
      "weighted avg       0.78      0.81      0.77      9298\n",
      "\n"
     ]
    }
   ],
   "source": [
    "# Predict and evaluate the model Uses the trained model to make predictions on the testing data.\n",
    "y_pred = pipeline.predict(X_test)\n",
    "\n",
    "#Evaluates the model's accuracy by comparing the predicted labels with the actual labels.\n",
    "accuracy = accuracy_score(y_test, y_pred)\n",
    "\n",
    "#Prints the accuracy score and a classification report containing precision, recall, and F1-score for each class.\n",
    "print(f'Accuracy: {accuracy:.2f}')\n",
    "print(classification_report(y_test, y_pred,zero_division=1))"
   ]
  },
  {
   "cell_type": "markdown",
   "metadata": {},
   "source": [
    "# Visualizing Random Classification Model using Normalized Confusion Matrix"
   ]
  },
  {
   "cell_type": "code",
   "execution_count": 5,
   "metadata": {},
   "outputs": [
    {
     "data": {
      "text/plain": [
       "<Figure size 1000x1000 with 0 Axes>"
      ]
     },
     "metadata": {},
     "output_type": "display_data"
    },
    {
     "data": {
      "image/png": "[encoded data removed]",
      "text/plain": [
       "<Figure size 640x480 with 2 Axes>"
      ]
     },
     "metadata": {},
     "output_type": "display_data"
    }
   ],
   "source": [
    "import matplotlib.pyplot as plt\n",
    "from sklearn.metrics import confusion_matrix, ConfusionMatrixDisplay\n",
    "\n",
    "# Assuming y_test and y_pred are defined\n",
    "labels = ['Female', 'Male', 'Non-Binary']\n",
    "cm = confusion_matrix(y_test, y_pred, normalize='true')\n",
    "disp = ConfusionMatrixDisplay(confusion_matrix=cm, display_labels=labels)\n",
    "\n",
    "plt.figure(figsize=(10,10))\n",
    "disp.plot(cmap=plt.cm.Blues)\n",
    "plt.title('Normalized Confusion Matrix')\n",
    "plt.show()\n"
   ]
  },
  {
   "cell_type": "markdown",
   "metadata": {},
   "source": [
    "**Interpretation**\n",
    "\n",
    "The image shows a normalized confusion matrix for a classification model predicting three classes: Female, Male, and Non-Binary.\n",
    "\n",
    "High Accuracy for Female Prediction: The model correctly predicts 'Female' with high accuracy, which is evident from the value 0.97 on the top left corner of the matrix. This means 97% of the time, females were correctly classified.\n",
    "\n",
    "Decent Accuracy for Male Prediction: The model predicts 'Male' correctly with an accuracy of 0.81, evident from the value in the middle of the left column. However, there were misclassifications where 18% (value 0.19) of males were incorrectly predicted as females.\n",
    "\n",
    "Poor Performance on Non-Binary Prediction: The model has a perfect misclassification of 'Non-Binary' as 'Female', as shown by the value of 0.88 in the bottom left corner of the matrix. This indicates the model failed to correctly classify any 'Non-Binary' instances.\n",
    "\n",
    "No Predictions for Non-Binary: There are zeros in the Non-Binary column, which means the model did not predict any instances as 'Non-Binary'. This suggests a possible bias in the model or a lack of representative data for the 'Non-Binary' class."
   ]
  },
  {
   "cell_type": "markdown",
   "metadata": {},
   "source": [
    "# **Further Evaluating Metrics**:\n",
    "In this updated code, we replaced the average_precision_score with precision_score, recall_score, and f1_score, all calculated using the \"micro\" averaging method. This averaging method treats the multi-class classification problem as a binary classification problem after binarizing the output. It provides the overall metrics considering all classes equally."
   ]
  },
  {
   "cell_type": "code",
   "execution_count": 6,
   "metadata": {},
   "outputs": [
    {
     "name": "stdout",
     "output_type": "stream",
     "text": [
      "Balanced Accuracy: 0.41\n",
      "Matthews Correlation Coefficient: 0.26\n",
      "Cohen's Kappa: 0.22\n",
      "Precision (Micro): 0.81\n",
      "Recall (Micro): 0.81\n",
      "F1-Score (Micro): 0.81\n"
     ]
    }
   ],
   "source": [
    "from sklearn.metrics import balanced_accuracy_score, matthews_corrcoef\n",
    "from sklearn.metrics import average_precision_score, cohen_kappa_score, precision_score, recall_score, f1_score\n",
    "\n",
    "# Assuming y_test and y_pred are already defined as your true and predicted labels\n",
    "\n",
    "# Balanced Accuracy\n",
    "balanced_accuracy = balanced_accuracy_score(y_test, y_pred)\n",
    "print(f'Balanced Accuracy: {balanced_accuracy:.2f}')\n",
    "\n",
    "# Matthews Correlation Coefficient\n",
    "mcc = matthews_corrcoef(y_test, y_pred)\n",
    "print(f'Matthews Correlation Coefficient: {mcc:.2f}')\n",
    "\n",
    "# Cohen's Kappa\n",
    "kappa = cohen_kappa_score(y_test, y_pred)\n",
    "print(f'Cohen\\'s Kappa: {kappa:.2f}')\n",
    "\n",
    "# Average Precision Score (Micro)\n",
    "# Note: For a multi-class classification setup, you would need to binarize the output first\n",
    "# This is just an example assuming a binary classification for illustrative purposes\n",
    "# Precision, Recall, F1-score (micro-averaged)\n",
    "precision_micro = precision_score(y_test, y_pred, average='micro')\n",
    "recall_micro = recall_score(y_test, y_pred, average='micro')\n",
    "f1_micro = f1_score(y_test, y_pred, average='micro')\n",
    "print(f'Precision (Micro): {precision_micro:.2f}')\n",
    "print(f'Recall (Micro): {recall_micro:.2f}')\n",
    "print(f'F1-Score (Micro): {f1_micro:.2f}')"
   ]
  },
  {
   "cell_type": "markdown",
   "metadata": {},
   "source": [
    "**Interpretation:**\n",
    "The micro-averaged results are high because they are dominated by the model's performance on the majority class (Female), which has a lot of data points. In other words, the model predicts the majority class well, but not the minority classes.\n",
    "The balanced accuracy, MCC, and Cohen's Kappa provide a more truthful representation of the model's performance across all classes and highlight that there is considerable room for improvement, especially for the minority classes.\n",
    "Given the large class imbalance and the complexity introduced by the high cardinality features, the model may be overfitting to the majority class and underperforming on the minority classes.\n",
    "\n",
    "The \"micro\" averaging method is just one way to calculate metrics for multi-class classification. We can also consider using the \"macro\" averaging method if we want to calculate metrics independently for each class and then average them."
   ]
  },
  {
   "cell_type": "markdown",
   "metadata": {},
   "source": [
    "**Insight Summary:**\n",
    "\n",
    "In summary, while the model is quite good at predicting the 'Female' class and reasonable at predicting the 'Male' class, it completely fails at identifying the 'Non-Binary' class, indicating a significant area for improvement. This could be due to various reasons, such as imbalanced class representation in the training data or a model that is not well-suited for multi-class classification with a sparsely represented class. Further analysis and corrective measures, such as oversampling the 'Non-Binary' class or improving the model's sensitivity to less represented classes, would be necessary to enhance the model's performance. \n",
    "\n",
    "Oversampling techniques such as SMOTE and undersampling or penalizing the majority class were used but prediction towards minority classes were still severely biased. Other Models like Linear Regression, Gradient Boosting and Logistic Regression were used but the prediction faired best with the Random Forest.\n",
    "\n",
    "**Further Improvement:**\n",
    "1.\tAddress Class Imbalance: Continue experimenting with different strategies to handle the imbalance, such as more targeted oversampling or advanced resampling techniques.\n",
    "2.\tTune Model Hyperparameters: Perform a grid search or random search across the Random Forest hyperparameters to find a more optimal configuration.\n",
    "3.\tFeature Engineering: Explore ways to improve feature representation, especially for categories with high cardinality or those that are significant for distinguishing classes.\n",
    "\n"
   ]
  }
 ],
 "metadata": {
  "kernelspec": {
   "display_name": "base",
   "language": "python",
   "name": "python3"
  },
  "language_info": {
   "codemirror_mode": {
    "name": "ipython",
    "version": 3
   },
   "file_extension": ".py",
   "mimetype": "text/x-python",
   "name": "python",
   "nbconvert_exporter": "python",
   "pygments_lexer": "ipython3",
   "version": "3.11.4"
  }
 },
 "nbformat": 4,
 "nbformat_minor": 2
}
